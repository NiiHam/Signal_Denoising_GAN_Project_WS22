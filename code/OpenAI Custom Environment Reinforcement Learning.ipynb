{
 "cells": [
  {
   "cell_type": "markdown",
   "metadata": {},
   "source": [
    "# 1. Test Random Environment with OpenAI Gym"
   ]
  },
  {
   "cell_type": "code",
   "execution_count": 1,
   "metadata": {},
   "outputs": [],
   "source": [
    "from gym import Env\n",
    "from gym.spaces import Discrete, Box\n",
    "import numpy as np\n",
    "import random"
   ]
  },
  {
   "cell_type": "code",
   "execution_count": 2,
   "metadata": {},
   "outputs": [],
   "source": [
    "class ShowerEnv(Env):\n",
    "    def __init__(self):\n",
    "        # Actions we can take, down, stay, up\n",
    "        self.action_space = Discrete(3)\n",
    "        # Temperature array\n",
    "        self.observation_space = Box(low=np.array([0]), high=np.array([100]))\n",
    "        # Set start temp\n",
    "        self.state = 38 + random.randint(-3,3)\n",
    "        # Set shower length\n",
    "        self.shower_length = 60\n",
    "        \n",
    "    def step(self, action):\n",
    "        # Apply action\n",
    "        # 0 -1 = -1 temperature\n",
    "        # 1 -1 = 0 \n",
    "        # 2 -1 = 1 temperature \n",
    "        self.state += action -1 \n",
    "        # Reduce shower length by 1 second\n",
    "        self.shower_length -= 1 \n",
    "        \n",
    "        # Calculate reward\n",
    "        if self.state >=37 and self.state <=39: \n",
    "            reward =1 \n",
    "        else: \n",
    "            reward = -1 \n",
    "        \n",
    "        # Check if shower is done\n",
    "        if self.shower_length <= 0: \n",
    "            done = True\n",
    "        else:\n",
    "            done = False\n",
    "        \n",
    "        # Apply temperature noise\n",
    "        #self.state += random.randint(-1,1)\n",
    "        # Set placeholder for info\n",
    "        info = {}\n",
    "        \n",
    "        # Return step information\n",
    "        return self.state, reward, done, info\n",
    "\n",
    "    def render(self):\n",
    "        # Implement viz\n",
    "        pass\n",
    "    \n",
    "    def reset(self):\n",
    "        # Reset shower temperature\n",
    "        self.state = 38 + random.randint(-3,3)\n",
    "        # Reset shower time\n",
    "        self.shower_length = 60 \n",
    "        return self.state\n",
    "    "
   ]
  },
  {
   "cell_type": "code",
   "execution_count": 113,
   "metadata": {},
   "outputs": [],
   "source": [
    "__credits__ = [\"Carlos Luis\"]\n",
    "\n",
    "from os import path\n",
    "from typing import Optional\n",
    "\n",
    "import numpy as np\n",
    "\n",
    "import gym\n",
    "from gym import spaces\n",
    "from gym.envs.classic_control import utils\n",
    "from gym.error import DependencyNotInstalled\n",
    "from numba import jit\n",
    "\n",
    "DEFAULT_X = np.pi\n",
    "DEFAULT_Y = 1.0\n",
    "\n",
    "\n",
    "class PMSMEnv(gym.Env):\n",
    "\n",
    "    metadata = {\n",
    "        \"render_modes\": [\"human\", \"rgb_array\"],\n",
    "        \"render_fps\": 30,\n",
    "    }\n",
    "\n",
    "    def __init__(self, render_mode: Optional[str] = None, parameters: Optional[dict] = None):\n",
    "\n",
    "        \n",
    "        self.Rs = parameters.get(\"Rs\") if \"Rs\" in parameters else np.array(1.) \n",
    "        self.Ld = parameters.get(\"Ld\") if \"Ld\" in parameters else np.array(1.)\n",
    "        self.Lq = parameters.get(\"Lq\") if \"Lq\" in parameters else np.array(1.)\n",
    "        self.p = parameters.get(\"p\") if \"p\" in parameters else np.array(1.)\n",
    "        self.psi_f = parameters.get(\"psi_f\") if \"psi_f\" in parameters else np.array(1.)\n",
    "        self.Bm = parameters.get(\"Bm\") if \"Bm\" in parameters else np.array(1.)\n",
    "        self.J = parameters.get(\"J\") if \"J\" in parameters else np.array(1.)\n",
    "\n",
    "        self.max_speed = parameters.get(\"max_speed\") if \"max_speed\" in parameters else np.array(1.)\n",
    "        self.max_torque = parameters.get(\"max_torque\") if \"max_torque\" in parameters else np.array(1.)\n",
    "        self.max_voltage = parameters.get(\"max_voltage\") if \"max_voltage\" in parameters else np.array(1.)\n",
    "        self.max_current = parameters.get(\"max_current\") if \"max_current\" in parameters else np.array(1.)\n",
    "        \n",
    "        self.dt = parameters.get(\"sample_time\") if \"sample_time\" in parameters else np.array(0.001)\n",
    "        self.simTime = parameters.get(\"simulation_time\") if \"simulation_time\" in parameters else np.array(1.) \n",
    "        \n",
    "        self.render_mode = render_mode\n",
    "\n",
    "        self.screen_dim = 500\n",
    "        self.screen = None\n",
    "        self.clock = None\n",
    "        self.isopen = True\n",
    "\n",
    "        min_action = np.array([-self.max_voltage, -self.max_voltage], dtype=np.float32)\n",
    "        max_action = np.array([self.max_voltage, self.max_voltage], dtype=np.float32)\n",
    "\n",
    "        min_observation = np.array([-self.max_current, -self.max_current, -self.max_speed], dtype=np.float32)\n",
    "        max_observation = np.array([self.max_current, self.max_current, self.max_speed], dtype=np.float32)\n",
    "\n",
    "        self.action_space = spaces.Box(low=min_action, high=max_action, shape=(2,), dtype=np.float32)\n",
    "        self.observation_space = spaces.Box(low=min_observation, high=max_observation, shape=(3,), dtype=np.float32)\n",
    "\n",
    "        self.state = None\n",
    "    \n",
    "    def rungekutta4_step(self):\n",
    "        k1 = self.Xdot(self.x_prev)\n",
    "        k2 = self.Xdot(self.x_prev + k1 * self.dt/2.)\n",
    "        k3 = self.Xdot(self.x_prev + k2 * self.dt/2.)\n",
    "        k4 = self.Xdot(self.x_prev + k3 * self.dt)\n",
    "        return self.x_prev + (self.dt/6.) * (k1 + 2*k2 + 2*k3 + k4)\n",
    "        \n",
    "    def step(self, u, id_ref, omega_ref, T_load):\n",
    "        \n",
    "        self.T_load = np.clip(T_load, -self.max_torque, self.max_torque)\n",
    "        self.vd = np.clip(u[0], -self.max_voltage, self.max_voltage)\n",
    "        self.vq = np.clip(u[1], -self.max_voltage, self.max_voltage)\n",
    "        self.x_prev = np.array([self.id,self.iq,self.omega])\n",
    "\n",
    "        # Get new states\n",
    "        self.id, self.iq, self.omega = self.rungekutta4_step().tolist()\n",
    "        self.x_current = np.array([self.id,self.iq,self.omega])\n",
    "        self.id_dot, self.iq_dot, self.omega_dot = self.Xdot(self.x_current).tolist()\n",
    "\n",
    "        self.lambda_d = self.Ld*self.id + self.psi_f\n",
    "        self.lambda_q = self.Lq*self.iq\n",
    "        self.Te = (3/2)*(self.p)*(self.lambda_d*self.iq - self.lambda_q*self.id)\n",
    "        \n",
    "        if self.render_mode == \"human\":\n",
    "            self.render()\n",
    "        \n",
    "        # reduce time by one stimestep\n",
    "        self.simTime -= self.dt\n",
    "\n",
    "        # calculate error\n",
    "        self.id_error = self.id - np.array(id_ref)\n",
    "        self.omega_error = self.omega - np.array(omega_ref)\n",
    "\n",
    "        # calculate error\n",
    "        reward = -np.abs( self.id_error) -np.abs(self.omega_error)\n",
    "\n",
    "        # check if episode is done\n",
    "        done = self.simTime<=0\n",
    "\n",
    "        # set placeholder for info\n",
    "        info = {}\n",
    "\n",
    "\n",
    "        return self.get_observations, reward, done, info\n",
    "\n",
    "    \n",
    "    def Xdot(self, xdot):\n",
    "        id_, iq_, omega_ = xdot.tolist()\n",
    "        omegae_ = omega_[0]*self.p\n",
    "\n",
    "        A = np.array([[-self.Rs/self.Ld,  omegae_*self.Lq/self.Ld], \n",
    "                      [-omegae_*self.Ld/self.Lq, -self.Rs/self.Lq]])\n",
    "\n",
    "        B = np.array([[1/self.Ld,  0], \n",
    "                      [0,  1/self.Lq]])\n",
    "\n",
    "        v = np.array([[0],[-omegae_*self.psi_f/self.Lq]])\n",
    "        x = np.array([id_, iq_])\n",
    "        u = np.array([[self.vd],[self.vq]])\n",
    "       \n",
    "        idq_dot = np.matmul(A,x) + np.matmul(B,u) + v\n",
    "\n",
    "        id_dot = idq_dot[0]\n",
    "        iq_dot = idq_dot[1]\n",
    "\n",
    "        lambda_d_ = self.Ld*id_ + self.psi_f\n",
    "        lambda_q_ = self.Lq*iq_\n",
    "\n",
    "        Te_ = (3/2)*(self.p)*(lambda_d_*iq_ - lambda_q_*id_)\n",
    "        omega_dot = (Te_-(self.T_load + self.Bm*omega_))/self.J\n",
    "\n",
    "        return np.array([id_dot, iq_dot, omega_dot])\n",
    "\n",
    "\n",
    "    def reset(self, *, seed: Optional[int] = None, options: Optional[dict] = None):\n",
    "        super().reset(seed=seed)\n",
    "        if options is None:\n",
    "            self.id_dot = np.array([0.])\n",
    "            self.iq_dot = np.array([0.])\n",
    "            self.omega_dot = np.array([0.])            \n",
    "            self.id = np.array([0.])\n",
    "            self.iq = np.array([0.])\n",
    "            self.omega = np.array([0.])\n",
    "        else:\n",
    "            # Note that if you use custom reset bounds, it may lead to out-of-bound\n",
    "            # state/observations.\n",
    "            self.id = options.get(\"id_init\") if \"id_init\" in options else np.array([0.])\n",
    "            self.iq = options.get(\"iq_init\") if \"iq_init\" in options else np.array([0.])\n",
    "            self.omega = options.get(\"omega_init\") if \"omega_init\" in options else np.array([0.])\n",
    "            self.id_dot = np.array([0.])\n",
    "            self.iq_dot = np.array([0.])\n",
    "            self.omega_dot = np.array([0.])\n",
    "\n",
    "        if self.render_mode == \"human\":\n",
    "            self.render()\n",
    "        return self.get_observations(), {}\n",
    "\n",
    "    def get_observations(self):\n",
    "        # sensor measurement noise can be implemented here\n",
    "         observations = np.array([self.id, self.iq, self.omega], dtype=np.float32)\n",
    "         return observations\n",
    "   \n",
    "    def render(self):\n",
    "        # Implement visualization\n",
    "        pass\n",
    "        \n",
    "    def close(self):\n",
    "        pass"
   ]
  },
  {
   "cell_type": "code",
   "execution_count": 114,
   "metadata": {},
   "outputs": [],
   "source": [
    "env = PMSMEnv(dt=0.001, simTime=20)"
   ]
  },
  {
   "cell_type": "code",
   "execution_count": 115,
   "metadata": {},
   "outputs": [
    {
     "data": {
      "text/plain": [
       "array([0.43773526, 0.03539525, 1.0288391 ], dtype=float32)"
      ]
     },
     "execution_count": 115,
     "metadata": {},
     "output_type": "execute_result"
    }
   ],
   "source": [
    "env.observation_space.sample()"
   ]
  },
  {
   "cell_type": "code",
   "execution_count": 117,
   "metadata": {},
   "outputs": [
    {
     "data": {
      "text/plain": [
       "array([0.7867692 , 0.50231093], dtype=float32)"
      ]
     },
     "execution_count": 117,
     "metadata": {},
     "output_type": "execute_result"
    }
   ],
   "source": [
    "env.action_space.sample()"
   ]
  },
  {
   "cell_type": "code",
   "execution_count": null,
   "metadata": {},
   "outputs": [],
   "source": [
    "\n",
    "Ts = 1e-5;  \n",
    "Vm = 230;\n",
    "f  = 50;\n",
    "T_load = 0;\n",
    "\n",
    "\n",
    "Rs = 0.5;\n",
    "\n",
    "Ld0 = 3.5e-3;\n",
    "Ld1 = 3.5e-3;\n",
    "\n",
    "Lq0 = 5e-3;\n",
    "Lq1 = 5e-3;\n",
    "\n",
    "P = 6;\n",
    "p = 6/2;\n",
    "\n",
    "phi_f0 = 0.33;\n",
    "\n",
    "    \n",
    "J  = 0.004;\n",
    "Bm = 0.0028;\n",
    "\n",
    "kp_i = 100;\n",
    "ki_i = 4000;\n",
    "\n",
    "fsat_d = 1e-3;\n",
    "fsat_q = 1e-3;\n",
    "\n",
    "\n",
    "kp_s = 1;\n",
    "ki_s = 3;\n",
    "\n",
    "%observer design\n",
    "Q = [1 0 0 0;\n",
    "     0 1 0 0;\n",
    "     0 0 100 0;\n",
    "     0 0 0 100;];\n",
    "\n",
    "R = diag([1 1]); %[1 0;0 1;];\n",
    "\n",
    "C = [1 0 0 0;\n",
    "    0 1 0 0;];\n",
    "\n",
    "    \n",
    "P_init = 1e-3*eye(4)\n",
    "\n",
    "% open('PMSM_Torque_Observer_Project.slx')\n",
    "% sim('PMSM_Torque_Observer_Project.slx')"
   ]
  },
  {
   "cell_type": "code",
   "execution_count": 116,
   "metadata": {},
   "outputs": [
    {
     "name": "stdout",
     "output_type": "stream",
     "text": [
      "Episode:1 Score:[-40056.723438]\n",
      "Episode:2 Score:[-1.99679729]\n",
      "Episode:3 Score:[-1.99646119]\n",
      "Episode:4 Score:[-1.99571589]\n",
      "Episode:5 Score:[-1.99571358]\n",
      "Episode:6 Score:[-1.99613282]\n",
      "Episode:7 Score:[-1.99662713]\n",
      "Episode:8 Score:[-1.99633854]\n",
      "Episode:9 Score:[-1.9966823]\n",
      "Episode:10 Score:[-1.99572764]\n"
     ]
    }
   ],
   "source": [
    "episodes = 10\n",
    "for episode in range(1, episodes+1):\n",
    "    initial_conditions = {  \"id_init\": np.array([0.]),\n",
    "                            \"iq_init\": np.array([3.]),                            \n",
    "                            \"omega_init\": np.array([0.])\n",
    "                         }\n",
    "    state = env.reset(options=initial_conditions)\n",
    "    done = False\n",
    "    score = 0 \n",
    "    \n",
    "    while not done:\n",
    "        #env.render()\n",
    "        action = env.action_space.sample()\n",
    "        id_ref = 0\n",
    "        omega_ref = 2\n",
    "        T_load = 0\n",
    "\n",
    "        n_state, reward, done, info = env.step(action, id_ref, omega_ref, T_load)\n",
    "        score+=reward\n",
    "    print('Episode:{} Score:{}'.format(episode, score))"
   ]
  },
  {
   "cell_type": "markdown",
   "metadata": {},
   "source": [
    "# 2. Create a Deep Learning Model with Keras"
   ]
  },
  {
   "cell_type": "code",
   "execution_count": null,
   "metadata": {},
   "outputs": [],
   "source": [
    "import numpy as np\n",
    "from tensorflow.keras.models import Sequential\n",
    "from tensorflow.keras.layers import Dense, Flatten\n",
    "from tensorflow.keras.optimizers import Adam"
   ]
  },
  {
   "cell_type": "code",
   "execution_count": null,
   "metadata": {},
   "outputs": [],
   "source": [
    "states = env.observation_space.shape\n",
    "actions = env.action_space.n"
   ]
  },
  {
   "cell_type": "code",
   "execution_count": null,
   "metadata": {},
   "outputs": [
    {
     "data": {
      "text/plain": [
       "3"
      ]
     },
     "execution_count": 62,
     "metadata": {},
     "output_type": "execute_result"
    }
   ],
   "source": [
    "actions"
   ]
  },
  {
   "cell_type": "code",
   "execution_count": null,
   "metadata": {},
   "outputs": [],
   "source": [
    "def build_model(states, actions):\n",
    "    model = Sequential()    \n",
    "    model.add(Dense(24, activation='relu', input_shape=states))\n",
    "    model.add(Dense(24, activation='relu'))\n",
    "    model.add(Dense(actions, activation='linear'))\n",
    "    return model"
   ]
  },
  {
   "cell_type": "code",
   "execution_count": null,
   "metadata": {},
   "outputs": [],
   "source": [
    "del model "
   ]
  },
  {
   "cell_type": "code",
   "execution_count": null,
   "metadata": {},
   "outputs": [],
   "source": [
    "model = build_model(states, actions)"
   ]
  },
  {
   "cell_type": "code",
   "execution_count": null,
   "metadata": {},
   "outputs": [
    {
     "name": "stdout",
     "output_type": "stream",
     "text": [
      "Model: \"sequential_3\"\n",
      "_________________________________________________________________\n",
      "Layer (type)                 Output Shape              Param #   \n",
      "=================================================================\n",
      "dense_9 (Dense)              (None, 24)                48        \n",
      "_________________________________________________________________\n",
      "dense_10 (Dense)             (None, 24)                600       \n",
      "_________________________________________________________________\n",
      "dense_11 (Dense)             (None, 3)                 75        \n",
      "=================================================================\n",
      "Total params: 723\n",
      "Trainable params: 723\n",
      "Non-trainable params: 0\n",
      "_________________________________________________________________\n"
     ]
    }
   ],
   "source": [
    "model.summary()"
   ]
  },
  {
   "cell_type": "markdown",
   "metadata": {},
   "source": [
    "# 3. Build Agent with Keras-RL"
   ]
  },
  {
   "cell_type": "code",
   "execution_count": null,
   "metadata": {},
   "outputs": [],
   "source": [
    "from rl.agents import DQNAgent\n",
    "from rl.policy import BoltzmannQPolicy\n",
    "from rl.memory import SequentialMemory"
   ]
  },
  {
   "cell_type": "code",
   "execution_count": null,
   "metadata": {},
   "outputs": [],
   "source": [
    "def build_agent(model, actions):\n",
    "    policy = BoltzmannQPolicy()\n",
    "    memory = SequentialMemory(limit=50000, window_length=1)\n",
    "    dqn = DQNAgent(model=model, memory=memory, policy=policy, \n",
    "                  nb_actions=actions, nb_steps_warmup=10, target_model_update=1e-2)\n",
    "    return dqn"
   ]
  },
  {
   "cell_type": "code",
   "execution_count": null,
   "metadata": {},
   "outputs": [
    {
     "name": "stdout",
     "output_type": "stream",
     "text": [
      "Training for 50000 steps ...\n",
      "Interval 1 (0 steps performed)\n",
      "10000/10000 [==============================] - 50s 5ms/step - reward: -0.6330\n",
      "166 episodes - episode_reward: -38.000 [-60.000, 32.000] - loss: 1.235 - mae: 6.439 - mean_q: -8.204\n",
      "\n",
      "Interval 2 (10000 steps performed)\n",
      "10000/10000 [==============================] - 50s 5ms/step - reward: -0.5052\n",
      "167 episodes - episode_reward: -30.263 [-60.000, 36.000] - loss: 2.347 - mae: 11.012 - mean_q: -15.812\n",
      "\n",
      "Interval 3 (20000 steps performed)\n",
      "10000/10000 [==============================] - 49s 5ms/step - reward: -0.4650\n",
      "167 episodes - episode_reward: -27.964 [-60.000, 36.000] - loss: 2.621 - mae: 11.725 - mean_q: -16.873\n",
      "\n",
      "Interval 4 (30000 steps performed)\n",
      "10000/10000 [==============================] - 49s 5ms/step - reward: -0.4816\n",
      "166 episodes - episode_reward: -28.916 [-60.000, 42.000] - loss: 2.326 - mae: 10.960 - mean_q: -15.735\n",
      "\n",
      "Interval 5 (40000 steps performed)\n",
      " 6449/10000 [==================>...........] - ETA: 17s - reward: -0.4052"
     ]
    }
   ],
   "source": [
    "dqn = build_agent(model, actions)\n",
    "dqn.compile(Adam(lr=1e-3), metrics=['mae'])\n",
    "dqn.fit(env, nb_steps=50000, visualize=False, verbose=1)"
   ]
  },
  {
   "cell_type": "code",
   "execution_count": null,
   "metadata": {},
   "outputs": [
    {
     "name": "stdout",
     "output_type": "stream",
     "text": [
      "Testing for 100 episodes ...\n",
      "Episode 1: reward: -56.000, steps: 60\n",
      "Episode 2: reward: -60.000, steps: 60\n",
      "Episode 3: reward: -50.000, steps: 60\n",
      "Episode 4: reward: -60.000, steps: 60\n",
      "Episode 5: reward: -56.000, steps: 60\n",
      "Episode 6: reward: -52.000, steps: 60\n",
      "Episode 7: reward: -60.000, steps: 60\n",
      "Episode 8: reward: -50.000, steps: 60\n",
      "Episode 9: reward: -52.000, steps: 60\n",
      "Episode 10: reward: -56.000, steps: 60\n",
      "Episode 11: reward: -60.000, steps: 60\n",
      "Episode 12: reward: -60.000, steps: 60\n",
      "Episode 13: reward: -52.000, steps: 60\n",
      "Episode 14: reward: -52.000, steps: 60\n",
      "Episode 15: reward: -58.000, steps: 60\n",
      "Episode 16: reward: -50.000, steps: 60\n",
      "Episode 17: reward: -54.000, steps: 60\n",
      "Episode 18: reward: -58.000, steps: 60\n",
      "Episode 19: reward: -60.000, steps: 60\n",
      "Episode 20: reward: -56.000, steps: 60\n",
      "Episode 21: reward: -56.000, steps: 60\n",
      "Episode 22: reward: -52.000, steps: 60\n",
      "Episode 23: reward: -60.000, steps: 60\n",
      "Episode 24: reward: -56.000, steps: 60\n",
      "Episode 25: reward: -58.000, steps: 60\n",
      "Episode 26: reward: -58.000, steps: 60\n",
      "Episode 27: reward: -58.000, steps: 60\n",
      "Episode 28: reward: -60.000, steps: 60\n",
      "Episode 29: reward: -58.000, steps: 60\n",
      "Episode 30: reward: -60.000, steps: 60\n",
      "Episode 31: reward: -56.000, steps: 60\n",
      "Episode 32: reward: -56.000, steps: 60\n",
      "Episode 33: reward: -60.000, steps: 60\n",
      "Episode 34: reward: -60.000, steps: 60\n",
      "Episode 35: reward: -54.000, steps: 60\n",
      "Episode 36: reward: -52.000, steps: 60\n",
      "Episode 37: reward: -52.000, steps: 60\n",
      "Episode 38: reward: -56.000, steps: 60\n",
      "Episode 39: reward: -60.000, steps: 60\n",
      "Episode 40: reward: -56.000, steps: 60\n",
      "Episode 41: reward: -54.000, steps: 60\n",
      "Episode 42: reward: -60.000, steps: 60\n",
      "Episode 43: reward: -54.000, steps: 60\n",
      "Episode 44: reward: -60.000, steps: 60\n",
      "Episode 45: reward: -60.000, steps: 60\n",
      "Episode 46: reward: -60.000, steps: 60\n",
      "Episode 47: reward: -60.000, steps: 60\n",
      "Episode 48: reward: -60.000, steps: 60\n",
      "Episode 49: reward: -60.000, steps: 60\n",
      "Episode 50: reward: -54.000, steps: 60\n",
      "Episode 51: reward: -56.000, steps: 60\n",
      "Episode 52: reward: -60.000, steps: 60\n",
      "Episode 53: reward: -58.000, steps: 60\n",
      "Episode 54: reward: -60.000, steps: 60\n",
      "Episode 55: reward: -56.000, steps: 60\n",
      "Episode 56: reward: -60.000, steps: 60\n",
      "Episode 57: reward: -58.000, steps: 60\n",
      "Episode 58: reward: -58.000, steps: 60\n",
      "Episode 59: reward: -58.000, steps: 60\n",
      "Episode 60: reward: -60.000, steps: 60\n",
      "Episode 61: reward: -60.000, steps: 60\n",
      "Episode 62: reward: -60.000, steps: 60\n",
      "Episode 63: reward: -54.000, steps: 60\n",
      "Episode 64: reward: -60.000, steps: 60\n",
      "Episode 65: reward: -60.000, steps: 60\n",
      "Episode 66: reward: -58.000, steps: 60\n",
      "Episode 67: reward: -60.000, steps: 60\n",
      "Episode 68: reward: -58.000, steps: 60\n",
      "Episode 69: reward: -60.000, steps: 60\n",
      "Episode 70: reward: -56.000, steps: 60\n",
      "Episode 71: reward: -58.000, steps: 60\n",
      "Episode 72: reward: -54.000, steps: 60\n",
      "Episode 73: reward: -54.000, steps: 60\n",
      "Episode 74: reward: -52.000, steps: 60\n",
      "Episode 75: reward: -58.000, steps: 60\n",
      "Episode 76: reward: -60.000, steps: 60\n",
      "Episode 77: reward: -58.000, steps: 60\n",
      "Episode 78: reward: -60.000, steps: 60\n",
      "Episode 79: reward: -54.000, steps: 60\n",
      "Episode 80: reward: -60.000, steps: 60\n",
      "Episode 81: reward: -54.000, steps: 60\n",
      "Episode 82: reward: -60.000, steps: 60\n",
      "Episode 83: reward: -54.000, steps: 60\n",
      "Episode 84: reward: -60.000, steps: 60\n",
      "Episode 85: reward: -58.000, steps: 60\n",
      "Episode 86: reward: -54.000, steps: 60\n",
      "Episode 87: reward: -60.000, steps: 60\n",
      "Episode 88: reward: -60.000, steps: 60\n",
      "Episode 89: reward: -56.000, steps: 60\n",
      "Episode 90: reward: -52.000, steps: 60\n",
      "Episode 91: reward: -58.000, steps: 60\n",
      "Episode 92: reward: -60.000, steps: 60\n",
      "Episode 93: reward: -60.000, steps: 60\n",
      "Episode 94: reward: -56.000, steps: 60\n",
      "Episode 95: reward: -54.000, steps: 60\n",
      "Episode 96: reward: -54.000, steps: 60\n",
      "Episode 97: reward: -60.000, steps: 60\n",
      "Episode 98: reward: -60.000, steps: 60\n",
      "Episode 99: reward: -60.000, steps: 60\n",
      "Episode 100: reward: -58.000, steps: 60\n",
      "-57.18\n"
     ]
    }
   ],
   "source": [
    "scores = dqn.test(env, nb_episodes=100, visualize=False)\n",
    "print(np.mean(scores.history['episode_reward']))"
   ]
  },
  {
   "cell_type": "code",
   "execution_count": null,
   "metadata": {},
   "outputs": [
    {
     "name": "stdout",
     "output_type": "stream",
     "text": [
      "Testing for 15 episodes ...\n",
      "Episode 1: reward: 200.000, steps: 200\n",
      "Episode 2: reward: 200.000, steps: 200\n",
      "Episode 3: reward: 200.000, steps: 200\n",
      "Episode 4: reward: 200.000, steps: 200\n",
      "Episode 5: reward: 200.000, steps: 200\n",
      "Episode 6: reward: 200.000, steps: 200\n",
      "Episode 7: reward: 200.000, steps: 200\n",
      "Episode 8: reward: 200.000, steps: 200\n",
      "Episode 9: reward: 200.000, steps: 200\n",
      "Episode 10: reward: 200.000, steps: 200\n",
      "Episode 11: reward: 200.000, steps: 200\n",
      "Episode 12: reward: 200.000, steps: 200\n",
      "Episode 13: reward: 200.000, steps: 200\n",
      "Episode 14: reward: 200.000, steps: 200\n",
      "Episode 15: reward: 200.000, steps: 200\n"
     ]
    }
   ],
   "source": [
    "_ = dqn.test(env, nb_episodes=15, visualize=True)"
   ]
  },
  {
   "cell_type": "markdown",
   "metadata": {},
   "source": [
    "# 4. Reloading Agent from Memory"
   ]
  },
  {
   "cell_type": "code",
   "execution_count": null,
   "metadata": {},
   "outputs": [],
   "source": [
    "dqn.save_weights('dqn_weights.h5f', overwrite=True)"
   ]
  },
  {
   "cell_type": "code",
   "execution_count": null,
   "metadata": {},
   "outputs": [],
   "source": [
    "del model\n",
    "del dqn\n",
    "del env"
   ]
  },
  {
   "cell_type": "code",
   "execution_count": null,
   "metadata": {},
   "outputs": [],
   "source": [
    "env = gym.make('CartPole-v0')\n",
    "actions = env.action_space.n\n",
    "states = env.observation_space.shape[0]\n",
    "model = build_model(states, actions)\n",
    "dqn = build_agent(model, actions)\n",
    "dqn.compile(Adam(lr=1e-3), metrics=['mae'])"
   ]
  },
  {
   "cell_type": "code",
   "execution_count": null,
   "metadata": {},
   "outputs": [],
   "source": [
    "dqn.load_weights('dqn_weights.h5f')"
   ]
  },
  {
   "cell_type": "code",
   "execution_count": null,
   "metadata": {},
   "outputs": [
    {
     "name": "stdout",
     "output_type": "stream",
     "text": [
      "Testing for 5 episodes ...\n",
      "WARNING:tensorflow:From /Users/nicholasrenotte/opt/anaconda3/lib/python3.7/site-packages/tensorflow/python/keras/engine/training_v1.py:2070: Model.state_updates (from tensorflow.python.keras.engine.training) is deprecated and will be removed in a future version.\n",
      "Instructions for updating:\n",
      "This property should not be used in TensorFlow 2.0, as updates are applied automatically.\n",
      "Episode 1: reward: 200.000, steps: 200\n",
      "Episode 2: reward: 200.000, steps: 200\n",
      "Episode 3: reward: 200.000, steps: 200\n",
      "Episode 4: reward: 200.000, steps: 200\n",
      "Episode 5: reward: 200.000, steps: 200\n"
     ]
    }
   ],
   "source": [
    "_ = dqn.test(env, nb_episodes=5, visualize=True)"
   ]
  },
  {
   "cell_type": "code",
   "execution_count": null,
   "metadata": {},
   "outputs": [],
   "source": []
  }
 ],
 "metadata": {
  "kernelspec": {
   "display_name": "Python 3 (ipykernel)",
   "language": "python",
   "name": "python3"
  },
  "language_info": {
   "codemirror_mode": {
    "name": "ipython",
    "version": 3
   },
   "file_extension": ".py",
   "mimetype": "text/x-python",
   "name": "python",
   "nbconvert_exporter": "python",
   "pygments_lexer": "ipython3",
   "version": "3.8.10"
  }
 },
 "nbformat": 4,
 "nbformat_minor": 2
}
