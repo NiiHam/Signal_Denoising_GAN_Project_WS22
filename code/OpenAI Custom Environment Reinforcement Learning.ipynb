{
 "cells": [
  {
   "cell_type": "markdown",
   "metadata": {},
   "source": [
    "# 1. Test Random Environment with OpenAI Gym"
   ]
  },
  {
   "cell_type": "code",
   "execution_count": null,
   "metadata": {},
   "outputs": [],
   "source": [
    "from gym import Env\n",
    "from gym.spaces import Discrete, Box\n",
    "import numpy as np\n",
    "import random"
   ]
  },
  {
   "cell_type": "code",
   "execution_count": null,
   "metadata": {},
   "outputs": [],
   "source": [
    "class ShowerEnv(Env):\n",
    "    def __init__(self):\n",
    "        # Actions we can take, down, stay, up\n",
    "        self.action_space = Discrete(3)\n",
    "        # Temperature array\n",
    "        self.observation_space = Box(low=np.array([0]), high=np.array([100]))\n",
    "        # Set start temp\n",
    "        self.state = 38 + random.randint(-3,3)\n",
    "        # Set shower length\n",
    "        self.shower_length = 60\n",
    "        \n",
    "    def step(self, action):\n",
    "        # Apply action\n",
    "        # 0 -1 = -1 temperature\n",
    "        # 1 -1 = 0 \n",
    "        # 2 -1 = 1 temperature \n",
    "        self.state += action -1 \n",
    "        # Reduce shower length by 1 second\n",
    "        self.shower_length -= 1 \n",
    "        \n",
    "        # Calculate reward\n",
    "        if self.state >=37 and self.state <=39: \n",
    "            reward =1 \n",
    "        else: \n",
    "            reward = -1 \n",
    "        \n",
    "        # Check if shower is done\n",
    "        if self.shower_length <= 0: \n",
    "            done = True\n",
    "        else:\n",
    "            done = False\n",
    "        \n",
    "        # Apply temperature noise\n",
    "        #self.state += random.randint(-1,1)\n",
    "        # Set placeholder for info\n",
    "        info = {}\n",
    "        \n",
    "        # Return step information\n",
    "        return self.state, reward, done, info\n",
    "\n",
    "    def render(self):\n",
    "        # Implement viz\n",
    "        pass\n",
    "    \n",
    "    def reset(self):\n",
    "        # Reset shower temperature\n",
    "        self.state = 38 + random.randint(-3,3)\n",
    "        # Reset shower time\n",
    "        self.shower_length = 60 \n",
    "        return self.state\n",
    "    "
   ]
  },
  {
   "cell_type": "code",
   "execution_count": 644,
   "metadata": {},
   "outputs": [],
   "source": [
    "__credits__ = [\"Desmond N.A. Hammond\"]\n",
    "\n",
    "from os import path\n",
    "from typing import Optional\n",
    "\n",
    "import numpy as np\n",
    "\n",
    "import gym\n",
    "from gym import spaces\n",
    "from gym.envs.classic_control import utils\n",
    "from gym.error import DependencyNotInstalled\n",
    "from numba import jit\n",
    "\n",
    "DEFAULT_X = np.pi\n",
    "DEFAULT_Y = 1.0\n",
    "\n",
    "\n",
    "class PMSMEnv(gym.Env):\n",
    "\n",
    "    metadata = {\n",
    "        \"render_modes\": [\"human\", \"rgb_array\"],\n",
    "        \"render_fps\": 30,\n",
    "    }\n",
    "\n",
    "    def __init__(self, render_mode: Optional[str] = None, parameters: Optional[dict] = None):\n",
    "\n",
    "        if parameters is None:\n",
    "            self.Rs = np.array(0.5) \n",
    "            self.Ld = np.array(3.5e-3)\n",
    "            self.Lq = np.array(5e-3)\n",
    "            self.p = np.array(3.)\n",
    "            self.psi_f = np.array(0.33)\n",
    "            self.Bm = np.array(0.0028)\n",
    "            self.J = np.array(0.004)\n",
    "            self.max_speed = np.array(500.)\n",
    "            self.max_torque = np.array(10.)\n",
    "            self.max_voltage = np.array(800.)\n",
    "            self.max_current = np.array(500.)\n",
    "            self.dt = np.array(0.001)\n",
    "            self.simTime = np.array(1.)\n",
    "        else:\n",
    "            self.Rs = np.array(parameters.get(\"Rs\")) if \"Rs\" in parameters else np.array(0.5) \n",
    "            self.Ld = np.array(parameters.get(\"Ld\")) if \"Ld\" in parameters else np.array(3.5e-3)\n",
    "            self.Lq = np.array(parameters.get(\"Lq\")) if \"Lq\" in parameters else np.array(5e-3)\n",
    "            self.p = np.array(parameters.get(\"p\")) if \"p\" in parameters else np.array(3.)\n",
    "            self.psi_f = np.array(parameters.get(\"psi_f\")) if \"psi_f\" in parameters else np.array(0.33)\n",
    "            self.Bm = np.array(parameters.get(\"Bm\")) if \"Bm\" in parameters else np.array(0.0028)\n",
    "            self.J = np.array(parameters.get(\"J\")) if \"J\" in parameters else np.array(0.004)\n",
    "            self.max_speed = np.array(parameters.get(\"max_speed\")) if \"max_speed\" in parameters else np.array(500.)\n",
    "            self.max_torque = np.array(parameters.get(\"max_torque\")) if \"max_torque\" in parameters else np.array(10.)\n",
    "            self.max_voltage = np.array(parameters.get(\"max_voltage\")) if \"max_voltage\" in parameters else np.array(800.)\n",
    "            self.max_current = np.array(parameters.get(\"max_current\")) if \"max_current\" in parameters else np.array(500.)  \n",
    "            self.dt = np.array(parameters.get(\"sample_time\")) if \"sample_time\" in parameters else np.array(0.001)\n",
    "            self.simTime = np.array(parameters.get(\"simulation_time\")) if \"simulation_time\" in parameters else np.array(1.) \n",
    "            \n",
    "        self.render_mode = render_mode\n",
    "\n",
    "        min_action = np.array([-self.max_voltage, -self.max_voltage], dtype=np.float32)\n",
    "        max_action = np.array([self.max_voltage, self.max_voltage], dtype=np.float32)\n",
    "\n",
    "        min_observation = np.array([-self.max_current, -self.max_current, -self.max_speed], dtype=np.float32)\n",
    "        max_observation = np.array([self.max_current, self.max_current, self.max_speed], dtype=np.float32)\n",
    "\n",
    "        self.action_space = spaces.Box(low=min_action, high=max_action, shape=(2,), dtype=np.float32)\n",
    "        self.observation_space = spaces.Box(low=min_observation, high=max_observation, shape=(3,), dtype=np.float32)\n",
    "\n",
    "        # State variables\n",
    "        self.state = None\n",
    "        self.reset()\n",
    "        \n",
    "    \n",
    "    def rungekutta4_step(self, diff_eqn, x0, dt):\n",
    "        k1 = diff_eqn(x0)\n",
    "        k2 = diff_eqn(x0 + k1 * dt/2.)\n",
    "        k3 = diff_eqn(x0 + k2 * dt/2.)\n",
    "        k4 = diff_eqn(x0 + k3 * dt)\n",
    "        return x0 + (dt/6.) * (k1 + 2*k2 + 2*k3 + k4)\n",
    "        \n",
    "    def step(self, u, id_ref, omega_ref, T_load):\n",
    "        \n",
    "        self.T_load = np.clip(T_load, -self.max_torque, self.max_torque)\n",
    "        self.vd, self.vq = np.clip(u, -self.max_voltage, self.max_voltage).tolist()\n",
    "        self.x_prev = np.array([self.id,self.iq,self.omega])\n",
    "        \n",
    "        # Compute new states\n",
    "        self.id, self.iq, self.omega = self.rungekutta4_step(diff_eqn=self.Xdot, x0=self.x_prev, dt=self.dt).tolist()\n",
    "        self.x_current = np.array([self.id,self.iq,self.omega])\n",
    "        self.id_dot, self.iq_dot, self.omega_dot = self.Xdot(self.x_current).tolist()\n",
    "        self.lambda_d = self.Ld*self.id + self.psi_f\n",
    "        self.lambda_q = self.Lq*self.iq\n",
    "        self.Te = (3/2)*(self.p)*(self.lambda_d*self.iq - self.lambda_q*self.id)\n",
    "        \n",
    "        if self.render_mode == \"human\":\n",
    "            self.render()\n",
    "        \n",
    "        # reduce time by one stimestep\n",
    "        self.simTime -= self.dt\n",
    "\n",
    "        # calculate error\n",
    "        self.id_error = self.id - np.array(id_ref)\n",
    "        self.omega_error = self.omega - np.array(omega_ref)\n",
    "\n",
    "        # calculate error\n",
    "        reward = -np.abs( self.id_error) -np.abs(self.omega_error)\n",
    "\n",
    "        # check if episode is done\n",
    "        done = self.simTime<=0\n",
    "\n",
    "        # set placeholder for info\n",
    "        info = {}\n",
    "\n",
    "        return self.get_observations, reward, done, info\n",
    "\n",
    "    \n",
    "    def Xdot(self, xdot):\n",
    "        id_, iq_, omega_ = xdot.tolist()\n",
    "\n",
    "        x_dot = np.array([self.vd/self.Ld - (self.Rs*id_)/self.Ld + (self.Lq*iq_*omega_*self.p)/self.Ld,\n",
    "                         self.vq/self.Lq - (self.Rs*iq_)/self.Lq - (omega_*self.p*self.psi_f)/self.Lq - (self.Ld*id_*omega_*self.p)/self.Lq,\n",
    "                         -(self.T_load + self.Bm*omega_ - (3*self.p*(iq_*(self.psi_f + self.Ld*id_) - self.Lq*id_*iq_))/2)/self.J])\n",
    "            \n",
    "        id_dot, iq_dot, omega_dot = x_dot.tolist()\n",
    "        \n",
    "        return np.array([id_dot, iq_dot, omega_dot])\n",
    "\n",
    "\n",
    "    def reset(self, *, seed: Optional[int] = None, options: Optional[dict] = None):\n",
    "        super().reset(seed=seed)\n",
    "        \n",
    "        # reset state variables\n",
    "        if options is None:\n",
    "            self.id_dot = np.array([0.])\n",
    "            self.iq_dot = np.array([0.])\n",
    "            self.omega_dot = np.array([0.])            \n",
    "            self.id = np.array([0.])\n",
    "            self.iq = np.array([0.])\n",
    "            self.omega = np.array([0.])\n",
    "        else:\n",
    "            self.id = options.get(\"id_init\") if \"id_init\" in options else np.array([0.])\n",
    "            self.iq = options.get(\"iq_init\") if \"iq_init\" in options else np.array([0.])\n",
    "            self.omega = options.get(\"omega_init\") if \"omega_init\" in options else np.array([0.])\n",
    "            self.id_dot = np.array([0.])\n",
    "            self.iq_dot = np.array([0.])\n",
    "            self.omega_dot = np.array([0.])\n",
    "\n",
    "        if self.render_mode == \"human\":\n",
    "            self.render()\n",
    "        return self.get_observations(), {}\n",
    "\n",
    "    def get_observations(self):\n",
    "        # sensor measurement noise can be implemented here\n",
    "         observations = np.array([self.id, self.iq, self.omega], dtype=np.float32)\n",
    "         return observations\n",
    "   \n",
    "    def render(self):\n",
    "        # Implement visualization\n",
    "        pass\n",
    "        \n",
    "    def close(self):\n",
    "        pass"
   ]
  },
  {
   "cell_type": "code",
   "execution_count": 645,
   "metadata": {},
   "outputs": [],
   "source": [
    "env = PMSMEnv(\n",
    "    parameters = {            \n",
    "                    \"Rs\" : 0.5,\n",
    "                    \"Ld\" : 3.5e-3,\n",
    "                    \"Lq\" : 5e-3,\n",
    "                    \"p\" : 3.,\n",
    "                    \"psi_f\" : 0.33,\n",
    "                    \"Bm\" : 0.0028,\n",
    "                    \"J\" : 0.004,\n",
    "                    \"max_speed\" : 500.,\n",
    "                    \"max_torque\" : 10.,\n",
    "                    \"max_voltage\" : 800.,\n",
    "                    \"max_current\" : 500.,\n",
    "                    \"dt\" : 0.001,\n",
    "                    \"simTime\" : 1.\n",
    "                }\n",
    ")"
   ]
  },
  {
   "cell_type": "code",
   "execution_count": 646,
   "metadata": {},
   "outputs": [
    {
     "data": {
      "text/plain": [
       "array([ 83.52703, 186.6295 , 237.83838], dtype=float32)"
      ]
     },
     "execution_count": 646,
     "metadata": {},
     "output_type": "execute_result"
    }
   ],
   "source": [
    "env.observation_space.sample()"
   ]
  },
  {
   "cell_type": "code",
   "execution_count": 647,
   "metadata": {},
   "outputs": [
    {
     "data": {
      "text/plain": [
       "array([ 514.06647, -620.6124 ], dtype=float32)"
      ]
     },
     "execution_count": 647,
     "metadata": {},
     "output_type": "execute_result"
    }
   ],
   "source": [
    "env.action_space.sample()"
   ]
  },
  {
   "cell_type": "code",
   "execution_count": 648,
   "metadata": {},
   "outputs": [],
   "source": [
    "# kp_i = 100;\n",
    "# ki_i = 4000;\n",
    "\n",
    "# fsat_d = 1e-3;\n",
    "# fsat_q = 1e-3;\n",
    "\n",
    "\n",
    "# kp_s = 1;\n",
    "# ki_s = 3;\n",
    "\n",
    "# %observer design\n",
    "# Q = [1 0 0 0;\n",
    "#      0 1 0 0;\n",
    "#      0 0 100 0;\n",
    "#      0 0 0 100;];\n",
    "\n",
    "# R = diag([1 1]); %[1 0;0 1;];\n",
    "\n",
    "# C = [1 0 0 0;\n",
    "#     0 1 0 0;];\n",
    "\n",
    "    \n",
    "# P_init = 1e-3*eye(4)"
   ]
  },
  {
   "cell_type": "code",
   "execution_count": 649,
   "metadata": {},
   "outputs": [
    {
     "name": "stdout",
     "output_type": "stream",
     "text": [
      "Episode:1 Score:[-407464.39942882]\n",
      "Episode:2 Score:[-50.64487472]\n",
      "Episode:3 Score:[-105.85865422]\n",
      "Episode:4 Score:[-59.75702142]\n",
      "Episode:5 Score:[-170.04962043]\n",
      "Episode:6 Score:[-9.19056428]\n",
      "Episode:7 Score:[-75.95068399]\n",
      "Episode:8 Score:[-141.38930657]\n",
      "Episode:9 Score:[-210.51024847]\n",
      "Episode:10 Score:[-121.18931116]\n"
     ]
    }
   ],
   "source": [
    "episodes = 10\n",
    "for episode in range(1, episodes+1):\n",
    "    initial_conditions = {  \"id_init\": np.array([0.]),\n",
    "                            \"iq_init\": np.array([3.]),                            \n",
    "                            \"omega_init\": np.array([0.])\n",
    "                         }\n",
    "    state = env.reset(options=initial_conditions)\n",
    "    done = False\n",
    "    score = 0 \n",
    "    \n",
    "    while not done:\n",
    "        #env.render()\n",
    "        action = env.action_space.sample()\n",
    "        id_ref = 0\n",
    "        omega_ref = 2\n",
    "        T_load = 0\n",
    "\n",
    "        n_state, reward, done, info = env.step(action, id_ref, omega_ref, T_load)\n",
    "        score+=reward\n",
    "    print('Episode:{} Score:{}'.format(episode, score))"
   ]
  },
  {
   "cell_type": "markdown",
   "metadata": {},
   "source": [
    "# 2. Create a Deep Learning Model with Keras"
   ]
  },
  {
   "cell_type": "code",
   "execution_count": null,
   "metadata": {},
   "outputs": [],
   "source": [
    "import numpy as np\n",
    "from tensorflow.keras.models import Sequential\n",
    "from tensorflow.keras.layers import Dense, Flatten\n",
    "from tensorflow.keras.optimizers import Adam"
   ]
  },
  {
   "cell_type": "code",
   "execution_count": null,
   "metadata": {},
   "outputs": [],
   "source": [
    "states = env.observation_space.shape\n",
    "actions = env.action_space.n"
   ]
  },
  {
   "cell_type": "code",
   "execution_count": null,
   "metadata": {},
   "outputs": [],
   "source": [
    "actions"
   ]
  },
  {
   "cell_type": "code",
   "execution_count": null,
   "metadata": {},
   "outputs": [],
   "source": [
    "def build_model(states, actions):\n",
    "    model = Sequential()    \n",
    "    model.add(Dense(24, activation='relu', input_shape=states))\n",
    "    model.add(Dense(24, activation='relu'))\n",
    "    model.add(Dense(actions, activation='linear'))\n",
    "    return model"
   ]
  },
  {
   "cell_type": "code",
   "execution_count": null,
   "metadata": {},
   "outputs": [],
   "source": [
    "del model "
   ]
  },
  {
   "cell_type": "code",
   "execution_count": null,
   "metadata": {},
   "outputs": [],
   "source": [
    "model = build_model(states, actions)"
   ]
  },
  {
   "cell_type": "code",
   "execution_count": null,
   "metadata": {},
   "outputs": [],
   "source": [
    "model.summary()"
   ]
  },
  {
   "cell_type": "markdown",
   "metadata": {},
   "source": [
    "# 3. Build Agent with Keras-RL"
   ]
  },
  {
   "cell_type": "code",
   "execution_count": null,
   "metadata": {},
   "outputs": [],
   "source": [
    "from rl.agents import DQNAgent\n",
    "from rl.policy import BoltzmannQPolicy\n",
    "from rl.memory import SequentialMemory"
   ]
  },
  {
   "cell_type": "code",
   "execution_count": null,
   "metadata": {},
   "outputs": [],
   "source": [
    "def build_agent(model, actions):\n",
    "    policy = BoltzmannQPolicy()\n",
    "    memory = SequentialMemory(limit=50000, window_length=1)\n",
    "    dqn = DQNAgent(model=model, memory=memory, policy=policy, \n",
    "                  nb_actions=actions, nb_steps_warmup=10, target_model_update=1e-2)\n",
    "    return dqn"
   ]
  },
  {
   "cell_type": "code",
   "execution_count": null,
   "metadata": {},
   "outputs": [],
   "source": [
    "dqn = build_agent(model, actions)\n",
    "dqn.compile(Adam(lr=1e-3), metrics=['mae'])\n",
    "dqn.fit(env, nb_steps=50000, visualize=False, verbose=1)"
   ]
  },
  {
   "cell_type": "code",
   "execution_count": null,
   "metadata": {},
   "outputs": [],
   "source": [
    "scores = dqn.test(env, nb_episodes=100, visualize=False)\n",
    "print(np.mean(scores.history['episode_reward']))"
   ]
  },
  {
   "cell_type": "code",
   "execution_count": null,
   "metadata": {},
   "outputs": [],
   "source": [
    "_ = dqn.test(env, nb_episodes=15, visualize=True)"
   ]
  },
  {
   "cell_type": "markdown",
   "metadata": {},
   "source": [
    "# 4. Reloading Agent from Memory"
   ]
  },
  {
   "cell_type": "code",
   "execution_count": null,
   "metadata": {},
   "outputs": [],
   "source": [
    "dqn.save_weights('dqn_weights.h5f', overwrite=True)"
   ]
  },
  {
   "cell_type": "code",
   "execution_count": null,
   "metadata": {},
   "outputs": [],
   "source": [
    "del model\n",
    "del dqn\n",
    "del env"
   ]
  },
  {
   "cell_type": "code",
   "execution_count": null,
   "metadata": {},
   "outputs": [],
   "source": [
    "env = gym.make('CartPole-v0')\n",
    "actions = env.action_space.n\n",
    "states = env.observation_space.shape[0]\n",
    "model = build_model(states, actions)\n",
    "dqn = build_agent(model, actions)\n",
    "dqn.compile(Adam(lr=1e-3), metrics=['mae'])"
   ]
  },
  {
   "cell_type": "code",
   "execution_count": null,
   "metadata": {},
   "outputs": [],
   "source": [
    "dqn.load_weights('dqn_weights.h5f')"
   ]
  },
  {
   "cell_type": "code",
   "execution_count": null,
   "metadata": {},
   "outputs": [],
   "source": [
    "_ = dqn.test(env, nb_episodes=5, visualize=True)"
   ]
  },
  {
   "cell_type": "code",
   "execution_count": null,
   "metadata": {},
   "outputs": [],
   "source": [
    "\n",
    "# state matrix\n",
    "a = g/(lp*(4.0/3 - mp/(mp+mk)))\n",
    "A = np.array([[0, 1, 0, 0],\n",
    "              [0, 0, a, 0],\n",
    "              [0, 0, 0, 1],\n",
    "              [0, 0, a, 0]])\n",
    "\n",
    "# input matrix\n",
    "b = -1/(lp*(4.0/3 - mp/(mp+mk)))\n",
    "B = np.array([[0], [1/mt], [0], [b]])"
   ]
  },
  {
   "cell_type": "code",
   "execution_count": null,
   "metadata": {},
   "outputs": [],
   "source": [
    "\n",
    "R = np.eye(2, dtype=int)          # choose R (weight for input)\n",
    "Q = 5*np.eye(4, dtype=int)        # choose Q (weight for state)\n",
    "\n",
    "# get riccati solver\n",
    "from scipy import linalg\n",
    "\n",
    "# solve ricatti equation\n",
    "P = linalg.solve_continuous_are(A, B, Q, R)\n",
    "\n",
    "# calculate optimal controller gain\n",
    "K = np.dot(np.linalg.inv(R),\n",
    "           np.dot(B.T, P))"
   ]
  },
  {
   "cell_type": "code",
   "execution_count": null,
   "metadata": {},
   "outputs": [],
   "source": [
    "def apply_state_controller(K, x):\n",
    "    # feedback controller\n",
    "    u = -np.dot(K, x)   # u = -Kx\n",
    "    if u > 0:\n",
    "        return 1, u     # if force_dem > 0 -> move cart right\n",
    "    else:\n",
    "        return 0, u     # if force_dem <= 0 -> move cart left"
   ]
  },
  {
   "cell_type": "code",
   "execution_count": null,
   "metadata": {},
   "outputs": [],
   "source": [
    "\n",
    "# get environment\n",
    "env = gym.make('CartPole-v0')\n",
    "env.env.seed(1)     # seed for reproducibility\n",
    "obs = env.reset()\n",
    "\n",
    "for i in range(1000):\n",
    "    env.render()\n",
    "    \n",
    "    # get force direction (action) and force value (force)\n",
    "    action, force = apply_state_controller(K, obs)\n",
    "    \n",
    "    # absolute value, since 'action' determines the sign, F_min = -10N, F_max = 10N\n",
    "    abs_force = abs(float(np.clip(force, -10, 10)))\n",
    "    \n",
    "    # change magnitute of the applied force in CartPole\n",
    "    env.env.force_mag = abs_force\n",
    "\n",
    "    # apply action\n",
    "    obs, reward, done, _ = env.step(action)\n",
    "    if done:\n",
    "        print(f'Terminated after {i+1} iterations.')\n",
    "        break\n",
    "\n",
    "env.close()"
   ]
  }
 ],
 "metadata": {
  "kernelspec": {
   "display_name": "Python 3 (ipykernel)",
   "language": "python",
   "name": "python3"
  },
  "language_info": {
   "codemirror_mode": {
    "name": "ipython",
    "version": 3
   },
   "file_extension": ".py",
   "mimetype": "text/x-python",
   "name": "python",
   "nbconvert_exporter": "python",
   "pygments_lexer": "ipython3",
   "version": "3.8.10"
  }
 },
 "nbformat": 4,
 "nbformat_minor": 2
}
